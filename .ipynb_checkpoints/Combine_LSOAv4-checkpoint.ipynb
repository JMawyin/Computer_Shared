{
 "cells": [
  {
   "cell_type": "code",
   "execution_count": 1,
   "metadata": {},
   "outputs": [],
   "source": [
    "import pandas as pd\n",
    "import geopandas as gpd\n",
    "import pandas as pd\n",
    "import numpy as np\n",
    "import matplotlib.pyplot as plt\n",
    "import gc\n",
    "from scipy import ndimage\n",
    "pd.set_option('display.html.table_schema', True)"
   ]
  },
  {
   "cell_type": "code",
   "execution_count": 3,
   "metadata": {
    "slideshow": {
     "slide_type": "slide"
    }
   },
   "outputs": [],
   "source": [
    "geojson_path = \"/Users/josemawyin/Library/Mobile Documents/com~apple~CloudDocs/Data Science Masters /698/Intro Work/lsoa.geojson\"\n",
    "world = gpd.read_file(geojson_path)\n",
    "world=world.rename(columns = {'LSOA11CD':'LSOA_Code'})\n",
    "world=world.sort_values('LSOA_Code')\n",
    "###\n",
    "#lsoa_centroid_path = \"/Users/josemawyin/Library/Mobile Documents/com~apple~CloudDocs/Data Science Masters /698/Data/Output_Areas__December_2011__Population_Weighted_Centroids-shp/Output_Areas__December_2011__Population_Weighted_Centroids.shp\"\n",
    "lsoa_centroid_path = \"/Users/josemawyin/Library/Mobile Documents/com~apple~CloudDocs/Data Science Masters /698/Data/LSOA_Dec_2011_Population_Weighted_Centroids-shp/Lower_Layer_Super_Output_Areas__December_2011__Population_Weighted_Centroids.shp\"\n",
    "lsoa_centroid = gpd.read_file(lsoa_centroid_path)\n",
    "lsoa_centroid=lsoa_centroid.rename(columns = {'lsoa11cd':'LSOA_Code'})\n",
    "lsoa_centroid=lsoa_centroid.rename(columns = {'lsoa11nm':'LSOA11NMW'})\n",
    "lsoa_centroid=lsoa_centroid.sort_values('LSOA_Code')\n",
    "lsoa_centroid=lsoa_centroid.drop(columns=['objectid'])\n",
    "###\n",
    "demand_2018_loc = \"/Users/josemawyin/Library/Mobile Documents/com~apple~CloudDocs/Downloads/LSOA_DOM_ELEC_csv/LSOA_ELEC_2018.csv\"\n",
    "demand_2018 = pd.read_csv(demand_2018_loc)\n",
    "demand_2018=demand_2018.rename(columns = {'LSOACode':'LSOA_Code'})\n",
    "demand_2018=demand_2018.sort_values('LSOA_Code')\n",
    "###\n",
    "installations_loc = \"/Users/josemawyin/Library/Mobile Documents/com~apple~CloudDocs/Data Science Masters /698/Intro Work/LSOA_installation.csv\"\n",
    "installations = pd.read_csv(installations_loc)\n",
    "###\n",
    "J_installations_loc = \"/Users/josemawyin/Library/Mobile Documents/com~apple~CloudDocs/Data Science Masters /698/Data/Jamie_PV_capacity_by_GSP_and_LLSOA/capacity_by_llsoa_and_gsp_20200617T165804/20200617T165804_capacity_by_llsoa_and_month.csv\"\n",
    "J_installations = pd.read_csv(J_installations_loc)\n",
    "####Lower Layer Super Output Area (2011) to Clinical Commissioning Group to Local Authority District (April 2019) Lookup in England\n",
    "lsoa_to_county_loc = \"/Users/josemawyin/Library/Mobile Documents/com~apple~CloudDocs/Data Science Masters /698/Data/Lower_Layer_Super_Output_Area_(2011)_to_Clinical_Commissioning_Group_to_Local_Authority_District_(April_2019)_Lookup_in_England.csv\"\n",
    "lsoa_to_county = pd.read_csv(lsoa_to_county_loc)\n",
    "lsoa_to_county=lsoa_to_county.rename(columns = {'LSOA11CD':'LSOA_Code'})\n",
    "lsoa_to_county=lsoa_to_county.sort_values('LAD19CD')\n",
    "###Local Authority District to County (April 2019) Lookup in England\n",
    "la_to_county_loc = \"/Users/josemawyin/Library/Mobile Documents/com~apple~CloudDocs/Data Science Masters /698/Data/Local_Authority_District_to_County_(April_2019)_Lookup_in_England.csv\"\n",
    "la_to_county = pd.read_csv(la_to_county_loc)\n",
    "la_to_county=la_to_county.sort_values('LAD19CD')"
   ]
  },
  {
   "cell_type": "code",
   "execution_count": 27,
   "metadata": {
    "slideshow": {
     "slide_type": "subslide"
    }
   },
   "outputs": [],
   "source": [
    "county_to_region_loc = \"/Users/josemawyin/Library/Mobile Documents/com~apple~CloudDocs/Downloads/Local_Authority_District_to_Region_(April_2019)_Lookup_in_England.csv\"\n",
    "county_to_region = pd.read_csv(county_to_region_loc, encoding='latin-1')\n",
    "county_to_region = county_to_region.sort_values('LAD19CD')"
   ]
  },
  {
   "cell_type": "code",
   "execution_count": 29,
   "metadata": {},
   "outputs": [
    {
     "data": {
      "application/vnd.dataresource+json": {
       "data": [
        {
         "LAD19CD": "E06000001",
         "LAD19NM": "Hartlepool",
         "RGN19CD": "E12000001",
         "RGN19NM": "North East",
         "index": 174,
         "ï»¿FID": 175
        },
        {
         "LAD19CD": "E06000002",
         "LAD19NM": "Middlesbrough",
         "RGN19CD": "E12000001",
         "RGN19NM": "North East",
         "index": 175,
         "ï»¿FID": 176
        },
        {
         "LAD19CD": "E06000003",
         "LAD19NM": "Redcar and Cleveland",
         "RGN19CD": "E12000001",
         "RGN19NM": "North East",
         "index": 176,
         "ï»¿FID": 177
        },
        {
         "LAD19CD": "E06000004",
         "LAD19NM": "Stockton-on-Tees",
         "RGN19CD": "E12000001",
         "RGN19NM": "North East",
         "index": 177,
         "ï»¿FID": 178
        },
        {
         "LAD19CD": "E06000005",
         "LAD19NM": "Darlington",
         "RGN19CD": "E12000001",
         "RGN19NM": "North East",
         "index": 178,
         "ï»¿FID": 179
        }
       ],
       "schema": {
        "fields": [
         {
          "name": "index",
          "type": "integer"
         },
         {
          "name": "ï»¿FID",
          "type": "integer"
         },
         {
          "name": "LAD19CD",
          "type": "string"
         },
         {
          "name": "LAD19NM",
          "type": "string"
         },
         {
          "name": "RGN19CD",
          "type": "string"
         },
         {
          "name": "RGN19NM",
          "type": "string"
         }
        ],
        "pandas_version": "0.20.0",
        "primaryKey": [
         "index"
        ]
       }
      },
      "text/html": [
       "<div>\n",
       "<style scoped>\n",
       "    .dataframe tbody tr th:only-of-type {\n",
       "        vertical-align: middle;\n",
       "    }\n",
       "\n",
       "    .dataframe tbody tr th {\n",
       "        vertical-align: top;\n",
       "    }\n",
       "\n",
       "    .dataframe thead th {\n",
       "        text-align: right;\n",
       "    }\n",
       "</style>\n",
       "<table border=\"1\" class=\"dataframe\">\n",
       "  <thead>\n",
       "    <tr style=\"text-align: right;\">\n",
       "      <th></th>\n",
       "      <th>ï»¿FID</th>\n",
       "      <th>LAD19CD</th>\n",
       "      <th>LAD19NM</th>\n",
       "      <th>RGN19CD</th>\n",
       "      <th>RGN19NM</th>\n",
       "    </tr>\n",
       "  </thead>\n",
       "  <tbody>\n",
       "    <tr>\n",
       "      <th>174</th>\n",
       "      <td>175</td>\n",
       "      <td>E06000001</td>\n",
       "      <td>Hartlepool</td>\n",
       "      <td>E12000001</td>\n",
       "      <td>North East</td>\n",
       "    </tr>\n",
       "    <tr>\n",
       "      <th>175</th>\n",
       "      <td>176</td>\n",
       "      <td>E06000002</td>\n",
       "      <td>Middlesbrough</td>\n",
       "      <td>E12000001</td>\n",
       "      <td>North East</td>\n",
       "    </tr>\n",
       "    <tr>\n",
       "      <th>176</th>\n",
       "      <td>177</td>\n",
       "      <td>E06000003</td>\n",
       "      <td>Redcar and Cleveland</td>\n",
       "      <td>E12000001</td>\n",
       "      <td>North East</td>\n",
       "    </tr>\n",
       "    <tr>\n",
       "      <th>177</th>\n",
       "      <td>178</td>\n",
       "      <td>E06000004</td>\n",
       "      <td>Stockton-on-Tees</td>\n",
       "      <td>E12000001</td>\n",
       "      <td>North East</td>\n",
       "    </tr>\n",
       "    <tr>\n",
       "      <th>178</th>\n",
       "      <td>179</td>\n",
       "      <td>E06000005</td>\n",
       "      <td>Darlington</td>\n",
       "      <td>E12000001</td>\n",
       "      <td>North East</td>\n",
       "    </tr>\n",
       "  </tbody>\n",
       "</table>\n",
       "</div>"
      ],
      "text/plain": [
       "     ï»¿FID    LAD19CD               LAD19NM    RGN19CD     RGN19NM\n",
       "174     175  E06000001            Hartlepool  E12000001  North East\n",
       "175     176  E06000002         Middlesbrough  E12000001  North East\n",
       "176     177  E06000003  Redcar and Cleveland  E12000001  North East\n",
       "177     178  E06000004      Stockton-on-Tees  E12000001  North East\n",
       "178     179  E06000005            Darlington  E12000001  North East"
      ]
     },
     "execution_count": 29,
     "metadata": {},
     "output_type": "execute_result"
    }
   ],
   "source": [
    "county_to_region.head()\n"
   ]
  },
  {
   "cell_type": "code",
   "execution_count": 20,
   "metadata": {},
   "outputs": [
    {
     "data": {
      "text/plain": [
       "array(['London', 'South West', 'East of England', 'South East',\n",
       "       'East Midlands', 'West Midlands', 'North West',\n",
       "       'Yorkshire and The Humber', 'North East'], dtype=object)"
      ]
     },
     "execution_count": 20,
     "metadata": {},
     "output_type": "execute_result"
    }
   ],
   "source": [
    "LAD.RGN19NM.unique()"
   ]
  },
  {
   "cell_type": "code",
   "execution_count": 21,
   "metadata": {},
   "outputs": [],
   "source": [
    "##Region Shape Files\n",
    "region_shape_path = \"/Users/josemawyin/Library/Mobile Documents/com~apple~CloudDocs/Downloads/Regions__December_2017__Boundaries-shp/Regions__December_2017__Boundaries.shp\"\n",
    "region_shape = gpd.read_file(region_shape_path)"
   ]
  },
  {
   "cell_type": "code",
   "execution_count": 22,
   "metadata": {},
   "outputs": [
    {
     "ename": "TypeError",
     "evalue": "__init__() got an unexpected keyword argument 'orient'",
     "output_type": "error",
     "traceback": [
      "\u001b[0;31m---------------------------------------------------------------------------\u001b[0m",
      "\u001b[0;31mTypeError\u001b[0m                                 Traceback (most recent call last)",
      "\u001b[0;32m~/opt/anaconda3/lib/python3.7/site-packages/IPython/core/formatters.py\u001b[0m in \u001b[0;36m__call__\u001b[0;34m(self, obj)\u001b[0m\n\u001b[1;32m    343\u001b[0m             \u001b[0mmethod\u001b[0m \u001b[0;34m=\u001b[0m \u001b[0mget_real_method\u001b[0m\u001b[0;34m(\u001b[0m\u001b[0mobj\u001b[0m\u001b[0;34m,\u001b[0m \u001b[0mself\u001b[0m\u001b[0;34m.\u001b[0m\u001b[0mprint_method\u001b[0m\u001b[0;34m)\u001b[0m\u001b[0;34m\u001b[0m\u001b[0;34m\u001b[0m\u001b[0m\n\u001b[1;32m    344\u001b[0m             \u001b[0;32mif\u001b[0m \u001b[0mmethod\u001b[0m \u001b[0;32mis\u001b[0m \u001b[0;32mnot\u001b[0m \u001b[0;32mNone\u001b[0m\u001b[0;34m:\u001b[0m\u001b[0;34m\u001b[0m\u001b[0;34m\u001b[0m\u001b[0m\n\u001b[0;32m--> 345\u001b[0;31m                 \u001b[0;32mreturn\u001b[0m \u001b[0mmethod\u001b[0m\u001b[0;34m(\u001b[0m\u001b[0;34m)\u001b[0m\u001b[0;34m\u001b[0m\u001b[0;34m\u001b[0m\u001b[0m\n\u001b[0m\u001b[1;32m    346\u001b[0m             \u001b[0;32mreturn\u001b[0m \u001b[0;32mNone\u001b[0m\u001b[0;34m\u001b[0m\u001b[0;34m\u001b[0m\u001b[0m\n\u001b[1;32m    347\u001b[0m         \u001b[0;32melse\u001b[0m\u001b[0;34m:\u001b[0m\u001b[0;34m\u001b[0m\u001b[0;34m\u001b[0m\u001b[0m\n",
      "\u001b[0;32m~/opt/anaconda3/lib/python3.7/site-packages/pandas/core/generic.py\u001b[0m in \u001b[0;36m_repr_data_resource_\u001b[0;34m(self)\u001b[0m\n\u001b[1;32m   1997\u001b[0m             \u001b[0mdata\u001b[0m \u001b[0;34m=\u001b[0m \u001b[0mself\u001b[0m\u001b[0;34m.\u001b[0m\u001b[0mhead\u001b[0m\u001b[0;34m(\u001b[0m\u001b[0mconfig\u001b[0m\u001b[0;34m.\u001b[0m\u001b[0mget_option\u001b[0m\u001b[0;34m(\u001b[0m\u001b[0;34m\"display.max_rows\"\u001b[0m\u001b[0;34m)\u001b[0m\u001b[0;34m)\u001b[0m\u001b[0;34m\u001b[0m\u001b[0;34m\u001b[0m\u001b[0m\n\u001b[1;32m   1998\u001b[0m             payload = json.loads(\n\u001b[0;32m-> 1999\u001b[0;31m                 \u001b[0mdata\u001b[0m\u001b[0;34m.\u001b[0m\u001b[0mto_json\u001b[0m\u001b[0;34m(\u001b[0m\u001b[0morient\u001b[0m\u001b[0;34m=\u001b[0m\u001b[0;34m\"table\"\u001b[0m\u001b[0;34m)\u001b[0m\u001b[0;34m,\u001b[0m \u001b[0mobject_pairs_hook\u001b[0m\u001b[0;34m=\u001b[0m\u001b[0mcollections\u001b[0m\u001b[0;34m.\u001b[0m\u001b[0mOrderedDict\u001b[0m\u001b[0;34m\u001b[0m\u001b[0;34m\u001b[0m\u001b[0m\n\u001b[0m\u001b[1;32m   2000\u001b[0m             )\n\u001b[1;32m   2001\u001b[0m             \u001b[0;32mreturn\u001b[0m \u001b[0mpayload\u001b[0m\u001b[0;34m\u001b[0m\u001b[0;34m\u001b[0m\u001b[0m\n",
      "\u001b[0;32m~/opt/anaconda3/lib/python3.7/site-packages/geopandas/geodataframe.py\u001b[0m in \u001b[0;36mto_json\u001b[0;34m(self, na, show_bbox, **kwargs)\u001b[0m\n\u001b[1;32m    379\u001b[0m         \u001b[0;34m-\u001b[0m\u001b[0;31m \u001b[0m\u001b[0;31m`\u001b[0m\u001b[0;31m`\u001b[0m\u001b[0mkeep\u001b[0m\u001b[0;31m`\u001b[0m\u001b[0;31m`\u001b[0m\u001b[0;34m:\u001b[0m \u001b[0moutput\u001b[0m \u001b[0mthe\u001b[0m \u001b[0mmissing\u001b[0m \u001b[0mentries\u001b[0m \u001b[0;32mas\u001b[0m \u001b[0mNaN\u001b[0m\u001b[0;34m.\u001b[0m\u001b[0;34m\u001b[0m\u001b[0;34m\u001b[0m\u001b[0m\n\u001b[1;32m    380\u001b[0m         \"\"\"\n\u001b[0;32m--> 381\u001b[0;31m         \u001b[0;32mreturn\u001b[0m \u001b[0mjson\u001b[0m\u001b[0;34m.\u001b[0m\u001b[0mdumps\u001b[0m\u001b[0;34m(\u001b[0m\u001b[0mself\u001b[0m\u001b[0;34m.\u001b[0m\u001b[0m_to_geo\u001b[0m\u001b[0;34m(\u001b[0m\u001b[0mna\u001b[0m\u001b[0;34m=\u001b[0m\u001b[0mna\u001b[0m\u001b[0;34m,\u001b[0m \u001b[0mshow_bbox\u001b[0m\u001b[0;34m=\u001b[0m\u001b[0mshow_bbox\u001b[0m\u001b[0;34m)\u001b[0m\u001b[0;34m,\u001b[0m \u001b[0;34m**\u001b[0m\u001b[0mkwargs\u001b[0m\u001b[0;34m)\u001b[0m\u001b[0;34m\u001b[0m\u001b[0;34m\u001b[0m\u001b[0m\n\u001b[0m\u001b[1;32m    382\u001b[0m \u001b[0;34m\u001b[0m\u001b[0m\n\u001b[1;32m    383\u001b[0m     \u001b[0;34m@\u001b[0m\u001b[0mproperty\u001b[0m\u001b[0;34m\u001b[0m\u001b[0;34m\u001b[0m\u001b[0m\n",
      "\u001b[0;32m~/opt/anaconda3/lib/python3.7/json/__init__.py\u001b[0m in \u001b[0;36mdumps\u001b[0;34m(obj, skipkeys, ensure_ascii, check_circular, allow_nan, cls, indent, separators, default, sort_keys, **kw)\u001b[0m\n\u001b[1;32m    236\u001b[0m         \u001b[0mcheck_circular\u001b[0m\u001b[0;34m=\u001b[0m\u001b[0mcheck_circular\u001b[0m\u001b[0;34m,\u001b[0m \u001b[0mallow_nan\u001b[0m\u001b[0;34m=\u001b[0m\u001b[0mallow_nan\u001b[0m\u001b[0;34m,\u001b[0m \u001b[0mindent\u001b[0m\u001b[0;34m=\u001b[0m\u001b[0mindent\u001b[0m\u001b[0;34m,\u001b[0m\u001b[0;34m\u001b[0m\u001b[0;34m\u001b[0m\u001b[0m\n\u001b[1;32m    237\u001b[0m         \u001b[0mseparators\u001b[0m\u001b[0;34m=\u001b[0m\u001b[0mseparators\u001b[0m\u001b[0;34m,\u001b[0m \u001b[0mdefault\u001b[0m\u001b[0;34m=\u001b[0m\u001b[0mdefault\u001b[0m\u001b[0;34m,\u001b[0m \u001b[0msort_keys\u001b[0m\u001b[0;34m=\u001b[0m\u001b[0msort_keys\u001b[0m\u001b[0;34m,\u001b[0m\u001b[0;34m\u001b[0m\u001b[0;34m\u001b[0m\u001b[0m\n\u001b[0;32m--> 238\u001b[0;31m         **kw).encode(obj)\n\u001b[0m\u001b[1;32m    239\u001b[0m \u001b[0;34m\u001b[0m\u001b[0m\n\u001b[1;32m    240\u001b[0m \u001b[0;34m\u001b[0m\u001b[0m\n",
      "\u001b[0;31mTypeError\u001b[0m: __init__() got an unexpected keyword argument 'orient'"
     ]
    },
    {
     "data": {
      "text/html": [
       "<div>\n",
       "<style scoped>\n",
       "    .dataframe tbody tr th:only-of-type {\n",
       "        vertical-align: middle;\n",
       "    }\n",
       "\n",
       "    .dataframe tbody tr th {\n",
       "        vertical-align: top;\n",
       "    }\n",
       "\n",
       "    .dataframe thead th {\n",
       "        text-align: right;\n",
       "    }\n",
       "</style>\n",
       "<table border=\"1\" class=\"dataframe\">\n",
       "  <thead>\n",
       "    <tr style=\"text-align: right;\">\n",
       "      <th></th>\n",
       "      <th>objectid</th>\n",
       "      <th>rgn17cd</th>\n",
       "      <th>rgn17nm</th>\n",
       "      <th>bng_e</th>\n",
       "      <th>bng_n</th>\n",
       "      <th>long</th>\n",
       "      <th>lat</th>\n",
       "      <th>st_areasha</th>\n",
       "      <th>st_lengths</th>\n",
       "      <th>geometry</th>\n",
       "    </tr>\n",
       "  </thead>\n",
       "  <tbody>\n",
       "    <tr>\n",
       "      <th>0</th>\n",
       "      <td>1</td>\n",
       "      <td>E12000001</td>\n",
       "      <td>North East</td>\n",
       "      <td>417313</td>\n",
       "      <td>600358</td>\n",
       "      <td>-1.728900</td>\n",
       "      <td>55.297031</td>\n",
       "      <td>8.608115e+09</td>\n",
       "      <td>6.492916e+05</td>\n",
       "      <td>MULTIPOLYGON (((400869.793 652744.481, 400910....</td>\n",
       "    </tr>\n",
       "    <tr>\n",
       "      <th>1</th>\n",
       "      <td>2</td>\n",
       "      <td>E12000002</td>\n",
       "      <td>North West</td>\n",
       "      <td>350015</td>\n",
       "      <td>506280</td>\n",
       "      <td>-2.772370</td>\n",
       "      <td>54.449451</td>\n",
       "      <td>1.418139e+10</td>\n",
       "      <td>1.053043e+06</td>\n",
       "      <td>MULTIPOLYGON (((363823.401 578129.102, 364542....</td>\n",
       "    </tr>\n",
       "    <tr>\n",
       "      <th>2</th>\n",
       "      <td>3</td>\n",
       "      <td>E12000003</td>\n",
       "      <td>Yorkshire and The Humber</td>\n",
       "      <td>446903</td>\n",
       "      <td>448736</td>\n",
       "      <td>-1.287120</td>\n",
       "      <td>53.932640</td>\n",
       "      <td>1.543025e+10</td>\n",
       "      <td>8.646500e+05</td>\n",
       "      <td>POLYGON ((479999.978 517670.160, 481340.496 51...</td>\n",
       "    </tr>\n",
       "    <tr>\n",
       "      <th>3</th>\n",
       "      <td>4</td>\n",
       "      <td>E12000004</td>\n",
       "      <td>East Midlands</td>\n",
       "      <td>477660</td>\n",
       "      <td>322635</td>\n",
       "      <td>-0.849670</td>\n",
       "      <td>52.795719</td>\n",
       "      <td>1.565396e+10</td>\n",
       "      <td>8.926245e+05</td>\n",
       "      <td>POLYGON ((516022.702 412210.895, 515854.099 41...</td>\n",
       "    </tr>\n",
       "    <tr>\n",
       "      <th>4</th>\n",
       "      <td>5</td>\n",
       "      <td>E12000005</td>\n",
       "      <td>West Midlands</td>\n",
       "      <td>386294</td>\n",
       "      <td>295477</td>\n",
       "      <td>-2.203580</td>\n",
       "      <td>52.556969</td>\n",
       "      <td>1.300924e+10</td>\n",
       "      <td>7.736454e+05</td>\n",
       "      <td>POLYGON ((407784.302 366613.697, 412395.600 36...</td>\n",
       "    </tr>\n",
       "    <tr>\n",
       "      <th>5</th>\n",
       "      <td>6</td>\n",
       "      <td>E12000006</td>\n",
       "      <td>East of England</td>\n",
       "      <td>571074</td>\n",
       "      <td>263229</td>\n",
       "      <td>0.504146</td>\n",
       "      <td>52.240669</td>\n",
       "      <td>1.915693e+10</td>\n",
       "      <td>1.084885e+06</td>\n",
       "      <td>MULTIPOLYGON (((599845.992 346575.743, 602319....</td>\n",
       "    </tr>\n",
       "    <tr>\n",
       "      <th>6</th>\n",
       "      <td>7</td>\n",
       "      <td>E12000007</td>\n",
       "      <td>London</td>\n",
       "      <td>517516</td>\n",
       "      <td>178392</td>\n",
       "      <td>-0.308640</td>\n",
       "      <td>51.492271</td>\n",
       "      <td>1.581483e+09</td>\n",
       "      <td>2.719279e+05</td>\n",
       "      <td>POLYGON ((537745.998 197762.300, 537646.397 19...</td>\n",
       "    </tr>\n",
       "    <tr>\n",
       "      <th>7</th>\n",
       "      <td>8</td>\n",
       "      <td>E12000008</td>\n",
       "      <td>South East</td>\n",
       "      <td>470062</td>\n",
       "      <td>172924</td>\n",
       "      <td>-0.993110</td>\n",
       "      <td>51.450970</td>\n",
       "      <td>1.910885e+10</td>\n",
       "      <td>1.456919e+06</td>\n",
       "      <td>MULTIPOLYGON (((493941.101 254585.705, 493776....</td>\n",
       "    </tr>\n",
       "    <tr>\n",
       "      <th>8</th>\n",
       "      <td>9</td>\n",
       "      <td>E12000009</td>\n",
       "      <td>South West</td>\n",
       "      <td>285015</td>\n",
       "      <td>102567</td>\n",
       "      <td>-3.633430</td>\n",
       "      <td>50.811192</td>\n",
       "      <td>2.398390e+10</td>\n",
       "      <td>1.632970e+06</td>\n",
       "      <td>MULTIPOLYGON (((416007.596 246053.797, 417744....</td>\n",
       "    </tr>\n",
       "  </tbody>\n",
       "</table>\n",
       "</div>"
      ],
      "text/plain": [
       "   objectid    rgn17cd                   rgn17nm   bng_e   bng_n      long  \\\n",
       "0         1  E12000001                North East  417313  600358 -1.728900   \n",
       "1         2  E12000002                North West  350015  506280 -2.772370   \n",
       "2         3  E12000003  Yorkshire and The Humber  446903  448736 -1.287120   \n",
       "3         4  E12000004             East Midlands  477660  322635 -0.849670   \n",
       "4         5  E12000005             West Midlands  386294  295477 -2.203580   \n",
       "5         6  E12000006           East of England  571074  263229  0.504146   \n",
       "6         7  E12000007                    London  517516  178392 -0.308640   \n",
       "7         8  E12000008                South East  470062  172924 -0.993110   \n",
       "8         9  E12000009                South West  285015  102567 -3.633430   \n",
       "\n",
       "         lat    st_areasha    st_lengths  \\\n",
       "0  55.297031  8.608115e+09  6.492916e+05   \n",
       "1  54.449451  1.418139e+10  1.053043e+06   \n",
       "2  53.932640  1.543025e+10  8.646500e+05   \n",
       "3  52.795719  1.565396e+10  8.926245e+05   \n",
       "4  52.556969  1.300924e+10  7.736454e+05   \n",
       "5  52.240669  1.915693e+10  1.084885e+06   \n",
       "6  51.492271  1.581483e+09  2.719279e+05   \n",
       "7  51.450970  1.910885e+10  1.456919e+06   \n",
       "8  50.811192  2.398390e+10  1.632970e+06   \n",
       "\n",
       "                                            geometry  \n",
       "0  MULTIPOLYGON (((400869.793 652744.481, 400910....  \n",
       "1  MULTIPOLYGON (((363823.401 578129.102, 364542....  \n",
       "2  POLYGON ((479999.978 517670.160, 481340.496 51...  \n",
       "3  POLYGON ((516022.702 412210.895, 515854.099 41...  \n",
       "4  POLYGON ((407784.302 366613.697, 412395.600 36...  \n",
       "5  MULTIPOLYGON (((599845.992 346575.743, 602319....  \n",
       "6  POLYGON ((537745.998 197762.300, 537646.397 19...  \n",
       "7  MULTIPOLYGON (((493941.101 254585.705, 493776....  \n",
       "8  MULTIPOLYGON (((416007.596 246053.797, 417744....  "
      ]
     },
     "execution_count": 22,
     "metadata": {},
     "output_type": "execute_result"
    }
   ],
   "source": [
    "region_shape"
   ]
  },
  {
   "cell_type": "code",
   "execution_count": null,
   "metadata": {},
   "outputs": [],
   "source": []
  }
 ],
 "metadata": {
  "kernelspec": {
   "display_name": "Python 3",
   "language": "python",
   "name": "python3"
  },
  "language_info": {
   "codemirror_mode": {
    "name": "ipython",
    "version": 3
   },
   "file_extension": ".py",
   "mimetype": "text/x-python",
   "name": "python",
   "nbconvert_exporter": "python",
   "pygments_lexer": "ipython3",
   "version": "3.7.7"
  }
 },
 "nbformat": 4,
 "nbformat_minor": 4
}
