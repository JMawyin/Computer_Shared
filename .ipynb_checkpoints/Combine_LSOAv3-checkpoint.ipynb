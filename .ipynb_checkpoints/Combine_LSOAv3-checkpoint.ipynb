{
 "cells": [
  {
   "cell_type": "code",
   "execution_count": 7,
   "metadata": {},
   "outputs": [],
   "source": [
    "import pandas as pd\n",
    "import geopandas as gpd\n",
    "import pandas as pd\n",
    "import numpy as np\n",
    "import matplotlib.pyplot as plt\n",
    "import gc\n",
    "from scipy import ndimage\n",
    "pd.set_option('display.html.table_schema', True)"
   ]
  },
  {
   "cell_type": "code",
   "execution_count": 8,
   "metadata": {
    "slideshow": {
     "slide_type": "slide"
    }
   },
   "outputs": [],
   "source": [
    "geojson_path = \"/Users/josemawyin/Library/Mobile Documents/com~apple~CloudDocs/Data Science Masters /698/Intro Work/lsoa.geojson\"\n",
    "world = gpd.read_file(geojson_path)\n",
    "world=world.rename(columns = {'LSOA11CD':'LSOA_Code'})\n",
    "world=world.sort_values('LSOA_Code')\n",
    "###\n",
    "#lsoa_centroid_path = \"/Users/josemawyin/Library/Mobile Documents/com~apple~CloudDocs/Data Science Masters /698/Data/Output_Areas__December_2011__Population_Weighted_Centroids-shp/Output_Areas__December_2011__Population_Weighted_Centroids.shp\"\n",
    "lsoa_centroid_path = \"/Users/josemawyin/Library/Mobile Documents/com~apple~CloudDocs/Data Science Masters /698/Data/LSOA_Dec_2011_Population_Weighted_Centroids-shp/Lower_Layer_Super_Output_Areas__December_2011__Population_Weighted_Centroids.shp\"\n",
    "lsoa_centroid = gpd.read_file(lsoa_centroid_path)\n",
    "lsoa_centroid=lsoa_centroid.rename(columns = {'lsoa11cd':'LSOA_Code'})\n",
    "lsoa_centroid=lsoa_centroid.rename(columns = {'lsoa11nm':'LSOA11NMW'})\n",
    "lsoa_centroid=lsoa_centroid.sort_values('LSOA_Code')\n",
    "lsoa_centroid=lsoa_centroid.drop(columns=['objectid'])\n",
    "###\n",
    "demand_2018_loc = \"/Users/josemawyin/Library/Mobile Documents/com~apple~CloudDocs/Downloads/LSOA_DOM_ELEC_csv/LSOA_ELEC_2018.csv\"\n",
    "demand_2018 = pd.read_csv(demand_2018_loc)\n",
    "demand_2018=demand_2018.rename(columns = {'LSOACode':'LSOA_Code'})\n",
    "demand_2018=demand_2018.sort_values('LSOA_Code')\n",
    "###\n",
    "installations_loc = \"/Users/josemawyin/Library/Mobile Documents/com~apple~CloudDocs/Data Science Masters /698/Intro Work/LSOA_installation.csv\"\n",
    "installations = pd.read_csv(installations_loc)\n",
    "###\n",
    "J_installations_loc = \"/Users/josemawyin/Library/Mobile Documents/com~apple~CloudDocs/Data Science Masters /698/Data/Jamie_PV_capacity_by_GSP_and_LLSOA/capacity_by_llsoa_and_gsp_20200617T165804/20200617T165804_capacity_by_llsoa_and_month.csv\"\n",
    "J_installations = pd.read_csv(J_installations_loc)\n",
    "####Lower Layer Super Output Area (2011) to Clinical Commissioning Group to Local Authority District (April 2019) Lookup in England\n",
    "lsoa_to_county_loc = \"/Users/josemawyin/Library/Mobile Documents/com~apple~CloudDocs/Data Science Masters /698/Data/Lower_Layer_Super_Output_Area_(2011)_to_Clinical_Commissioning_Group_to_Local_Authority_District_(April_2019)_Lookup_in_England.csv\"\n",
    "lsoa_to_county = pd.read_csv(lsoa_to_county_loc)\n",
    "lsoa_to_county=lsoa_to_county.rename(columns = {'LSOA11CD':'LSOA_Code'})\n",
    "lsoa_to_county=lsoa_to_county.sort_values('LSOA_Code')\n",
    "###Local Authority District to County (April 2019) Lookup in England\n",
    "la_to_county_loc = \"/Users/josemawyin/Library/Mobile Documents/com~apple~CloudDocs/Data Science Masters /698/Data/Local_Authority_District_to_County_(April_2019)_Lookup_in_England.csv\"\n",
    "la_to_county = pd.read_csv(la_to_county_loc)"
   ]
  },
  {
   "cell_type": "code",
   "execution_count": null,
   "metadata": {
    "slideshow": {
     "slide_type": "subslide"
    }
   },
   "outputs": [],
   "source": []
  },
  {
   "cell_type": "code",
   "execution_count": null,
   "metadata": {},
   "outputs": [],
   "source": []
  }
 ],
 "metadata": {
  "kernelspec": {
   "display_name": "Python 3",
   "language": "python",
   "name": "python3"
  },
  "language_info": {
   "codemirror_mode": {
    "name": "ipython",
    "version": 3
   },
   "file_extension": ".py",
   "mimetype": "text/x-python",
   "name": "python",
   "nbconvert_exporter": "python",
   "pygments_lexer": "ipython3",
   "version": "3.7.1"
  }
 },
 "nbformat": 4,
 "nbformat_minor": 4
}
