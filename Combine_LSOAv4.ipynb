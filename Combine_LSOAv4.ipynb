{
 "cells": [
  {
   "cell_type": "code",
   "execution_count": 4,
   "metadata": {},
   "outputs": [],
   "source": [
    "import pandas as pd\n",
    "import geopandas as gpd\n",
    "import pandas as pd\n",
    "import numpy as np\n",
    "import matplotlib.pyplot as plt\n",
    "import gc\n",
    "from scipy import ndimage\n",
    "pd.set_option('display.html.table_schema', True)"
   ]
  },
  {
   "cell_type": "code",
   "execution_count": 5,
   "metadata": {
    "slideshow": {
     "slide_type": "slide"
    }
   },
   "outputs": [],
   "source": [
    "geojson_path = \"/Users/josemawyin/Library/Mobile Documents/com~apple~CloudDocs/Data Science Masters /698/Intro Work/lsoa.geojson\"\n",
    "world = gpd.read_file(geojson_path)\n",
    "world=world.rename(columns = {'LSOA11CD':'LSOA_Code'})\n",
    "world=world.sort_values('LSOA_Code')\n",
    "###\n",
    "#lsoa_centroid_path = \"/Users/josemawyin/Library/Mobile Documents/com~apple~CloudDocs/Data Science Masters /698/Data/Output_Areas__December_2011__Population_Weighted_Centroids-shp/Output_Areas__December_2011__Population_Weighted_Centroids.shp\"\n",
    "lsoa_centroid_path = \"/Users/josemawyin/Library/Mobile Documents/com~apple~CloudDocs/Data Science Masters /698/Data/LSOA_Dec_2011_Population_Weighted_Centroids-shp/Lower_Layer_Super_Output_Areas__December_2011__Population_Weighted_Centroids.shp\"\n",
    "lsoa_centroid = gpd.read_file(lsoa_centroid_path)\n",
    "lsoa_centroid=lsoa_centroid.rename(columns = {'lsoa11cd':'LSOA_Code'})\n",
    "lsoa_centroid=lsoa_centroid.rename(columns = {'lsoa11nm':'LSOA11NMW'})\n",
    "lsoa_centroid=lsoa_centroid.sort_values('LSOA_Code')\n",
    "lsoa_centroid=lsoa_centroid.drop(columns=['objectid'])\n",
    "###\n",
    "demand_2018_loc = \"/Users/josemawyin/Library/Mobile Documents/com~apple~CloudDocs/Downloads/LSOA_DOM_ELEC_csv/LSOA_ELEC_2018.csv\"\n",
    "demand_2018 = pd.read_csv(demand_2018_loc)\n",
    "demand_2018=demand_2018.rename(columns = {'LSOACode':'LSOA_Code'})\n",
    "demand_2018=demand_2018.sort_values('LSOA_Code')\n",
    "###\n",
    "installations_loc = \"/Users/josemawyin/Library/Mobile Documents/com~apple~CloudDocs/Data Science Masters /698/Intro Work/LSOA_installation.csv\"\n",
    "installations = pd.read_csv(installations_loc)\n",
    "###\n",
    "J_installations_loc = \"/Users/josemawyin/Library/Mobile Documents/com~apple~CloudDocs/Data Science Masters /698/Data/Jamie_PV_capacity_by_GSP_and_LLSOA/capacity_by_llsoa_and_gsp_20200617T165804/20200617T165804_capacity_by_llsoa_and_month.csv\"\n",
    "J_installations = pd.read_csv(J_installations_loc)\n",
    "####Lower Layer Super Output Area (2011) to Clinical Commissioning Group to Local Authority District (April 2019) Lookup in England\n",
    "lsoa_to_county_loc = \"/Users/josemawyin/Library/Mobile Documents/com~apple~CloudDocs/Data Science Masters /698/Data/Lower_Layer_Super_Output_Area_(2011)_to_Clinical_Commissioning_Group_to_Local_Authority_District_(April_2019)_Lookup_in_England.csv\"\n",
    "lsoa_to_county = pd.read_csv(lsoa_to_county_loc)\n",
    "lsoa_to_county=lsoa_to_county.rename(columns = {'LSOA11CD':'LSOA_Code'})\n",
    "lsoa_to_county=lsoa_to_county.sort_values('LAD19CD')\n",
    "###Local Authority District to County (April 2019) Lookup in England\n",
    "la_to_county_loc = \"/Users/josemawyin/Library/Mobile Documents/com~apple~CloudDocs/Data Science Masters /698/Data/Local_Authority_District_to_County_(April_2019)_Lookup_in_England.csv\"\n",
    "la_to_county = pd.read_csv(la_to_county_loc)\n",
    "la_to_county=la_to_county.sort_values('LAD19CD')"
   ]
  },
  {
   "cell_type": "code",
   "execution_count": 11,
   "metadata": {},
   "outputs": [
    {
     "data": {
      "application/vnd.dataresource+json": {
       "data": [
        {
         "CCG19CD": "E38000075",
         "CCG19CDH": "00K",
         "CCG19NM": "NHS Hartlepool and Stockton-on-Tees CCG",
         "FID": 1,
         "LAD19CD": "E06000001",
         "LAD19NM": "Hartlepool",
         "LSOA11NM": "Hartlepool 009A",
         "LSOA_Code": "E01011949",
         "index": 0
        },
        {
         "CCG19CD": "E38000075",
         "CCG19CDH": "00K",
         "CCG19NM": "NHS Hartlepool and Stockton-on-Tees CCG",
         "FID": 32,
         "LAD19CD": "E06000001",
         "LAD19NM": "Hartlepool",
         "LSOA11NM": "Hartlepool 006C",
         "LSOA_Code": "E01011983",
         "index": 31
        },
        {
         "CCG19CD": "E38000075",
         "CCG19CDH": "00K",
         "CCG19NM": "NHS Hartlepool and Stockton-on-Tees CCG",
         "FID": 33,
         "LAD19CD": "E06000001",
         "LAD19NM": "Hartlepool",
         "LSOA11NM": "Hartlepool 009D",
         "LSOA_Code": "E01011984",
         "index": 32
        },
        {
         "CCG19CD": "E38000075",
         "CCG19CDH": "00K",
         "CCG19NM": "NHS Hartlepool and Stockton-on-Tees CCG",
         "FID": 34,
         "LAD19CD": "E06000001",
         "LAD19NM": "Hartlepool",
         "LSOA11NM": "Hartlepool 010A",
         "LSOA_Code": "E01011985",
         "index": 33
        },
        {
         "CCG19CD": "E38000075",
         "CCG19CDH": "00K",
         "CCG19NM": "NHS Hartlepool and Stockton-on-Tees CCG",
         "FID": 35,
         "LAD19CD": "E06000001",
         "LAD19NM": "Hartlepool",
         "LSOA11NM": "Hartlepool 008B",
         "LSOA_Code": "E01011986",
         "index": 34
        }
       ],
       "schema": {
        "fields": [
         {
          "name": "index",
          "type": "integer"
         },
         {
          "name": "FID",
          "type": "integer"
         },
         {
          "name": "LSOA_Code",
          "type": "string"
         },
         {
          "name": "LSOA11NM",
          "type": "string"
         },
         {
          "name": "CCG19CD",
          "type": "string"
         },
         {
          "name": "CCG19CDH",
          "type": "string"
         },
         {
          "name": "CCG19NM",
          "type": "string"
         },
         {
          "name": "LAD19CD",
          "type": "string"
         },
         {
          "name": "LAD19NM",
          "type": "string"
         }
        ],
        "pandas_version": "0.20.0",
        "primaryKey": [
         "index"
        ]
       }
      },
      "text/html": [
       "<div>\n",
       "<style scoped>\n",
       "    .dataframe tbody tr th:only-of-type {\n",
       "        vertical-align: middle;\n",
       "    }\n",
       "\n",
       "    .dataframe tbody tr th {\n",
       "        vertical-align: top;\n",
       "    }\n",
       "\n",
       "    .dataframe thead th {\n",
       "        text-align: right;\n",
       "    }\n",
       "</style>\n",
       "<table border=\"1\" class=\"dataframe\">\n",
       "  <thead>\n",
       "    <tr style=\"text-align: right;\">\n",
       "      <th></th>\n",
       "      <th>FID</th>\n",
       "      <th>LSOA_Code</th>\n",
       "      <th>LSOA11NM</th>\n",
       "      <th>CCG19CD</th>\n",
       "      <th>CCG19CDH</th>\n",
       "      <th>CCG19NM</th>\n",
       "      <th>LAD19CD</th>\n",
       "      <th>LAD19NM</th>\n",
       "    </tr>\n",
       "  </thead>\n",
       "  <tbody>\n",
       "    <tr>\n",
       "      <th>0</th>\n",
       "      <td>1</td>\n",
       "      <td>E01011949</td>\n",
       "      <td>Hartlepool 009A</td>\n",
       "      <td>E38000075</td>\n",
       "      <td>00K</td>\n",
       "      <td>NHS Hartlepool and Stockton-on-Tees CCG</td>\n",
       "      <td>E06000001</td>\n",
       "      <td>Hartlepool</td>\n",
       "    </tr>\n",
       "    <tr>\n",
       "      <th>31</th>\n",
       "      <td>32</td>\n",
       "      <td>E01011983</td>\n",
       "      <td>Hartlepool 006C</td>\n",
       "      <td>E38000075</td>\n",
       "      <td>00K</td>\n",
       "      <td>NHS Hartlepool and Stockton-on-Tees CCG</td>\n",
       "      <td>E06000001</td>\n",
       "      <td>Hartlepool</td>\n",
       "    </tr>\n",
       "    <tr>\n",
       "      <th>32</th>\n",
       "      <td>33</td>\n",
       "      <td>E01011984</td>\n",
       "      <td>Hartlepool 009D</td>\n",
       "      <td>E38000075</td>\n",
       "      <td>00K</td>\n",
       "      <td>NHS Hartlepool and Stockton-on-Tees CCG</td>\n",
       "      <td>E06000001</td>\n",
       "      <td>Hartlepool</td>\n",
       "    </tr>\n",
       "    <tr>\n",
       "      <th>33</th>\n",
       "      <td>34</td>\n",
       "      <td>E01011985</td>\n",
       "      <td>Hartlepool 010A</td>\n",
       "      <td>E38000075</td>\n",
       "      <td>00K</td>\n",
       "      <td>NHS Hartlepool and Stockton-on-Tees CCG</td>\n",
       "      <td>E06000001</td>\n",
       "      <td>Hartlepool</td>\n",
       "    </tr>\n",
       "    <tr>\n",
       "      <th>34</th>\n",
       "      <td>35</td>\n",
       "      <td>E01011986</td>\n",
       "      <td>Hartlepool 008B</td>\n",
       "      <td>E38000075</td>\n",
       "      <td>00K</td>\n",
       "      <td>NHS Hartlepool and Stockton-on-Tees CCG</td>\n",
       "      <td>E06000001</td>\n",
       "      <td>Hartlepool</td>\n",
       "    </tr>\n",
       "  </tbody>\n",
       "</table>\n",
       "</div>"
      ],
      "text/plain": [
       "    FID  LSOA_Code         LSOA11NM    CCG19CD CCG19CDH  \\\n",
       "0     1  E01011949  Hartlepool 009A  E38000075      00K   \n",
       "31   32  E01011983  Hartlepool 006C  E38000075      00K   \n",
       "32   33  E01011984  Hartlepool 009D  E38000075      00K   \n",
       "33   34  E01011985  Hartlepool 010A  E38000075      00K   \n",
       "34   35  E01011986  Hartlepool 008B  E38000075      00K   \n",
       "\n",
       "                                    CCG19NM    LAD19CD     LAD19NM  \n",
       "0   NHS Hartlepool and Stockton-on-Tees CCG  E06000001  Hartlepool  \n",
       "31  NHS Hartlepool and Stockton-on-Tees CCG  E06000001  Hartlepool  \n",
       "32  NHS Hartlepool and Stockton-on-Tees CCG  E06000001  Hartlepool  \n",
       "33  NHS Hartlepool and Stockton-on-Tees CCG  E06000001  Hartlepool  \n",
       "34  NHS Hartlepool and Stockton-on-Tees CCG  E06000001  Hartlepool  "
      ]
     },
     "execution_count": 11,
     "metadata": {},
     "output_type": "execute_result"
    }
   ],
   "source": [
    "lsoa_to_county.head()\n",
    "#lsoa_to_county.shape"
   ]
  },
  {
   "cell_type": "code",
   "execution_count": 6,
   "metadata": {
    "slideshow": {
     "slide_type": "subslide"
    }
   },
   "outputs": [],
   "source": [
    "###County to Region\n",
    "county_to_region_loc = \"/Users/josemawyin/Library/Mobile Documents/com~apple~CloudDocs/Downloads/Local_Authority_District_to_Region_(April_2019)_Lookup_in_England.csv\"\n",
    "county_to_region = pd.read_csv(county_to_region_loc, encoding='latin-1')\n",
    "county_to_region = county_to_region.sort_values('LAD19CD')"
   ]
  },
  {
   "cell_type": "code",
   "execution_count": 12,
   "metadata": {},
   "outputs": [
    {
     "data": {
      "application/vnd.dataresource+json": {
       "data": [
        {
         "LAD19CD": "E06000001",
         "LAD19NM": "Hartlepool",
         "RGN19CD": "E12000001",
         "RGN19NM": "North East",
         "index": 174,
         "ï»¿FID": 175
        },
        {
         "LAD19CD": "E06000002",
         "LAD19NM": "Middlesbrough",
         "RGN19CD": "E12000001",
         "RGN19NM": "North East",
         "index": 175,
         "ï»¿FID": 176
        },
        {
         "LAD19CD": "E06000003",
         "LAD19NM": "Redcar and Cleveland",
         "RGN19CD": "E12000001",
         "RGN19NM": "North East",
         "index": 176,
         "ï»¿FID": 177
        },
        {
         "LAD19CD": "E06000004",
         "LAD19NM": "Stockton-on-Tees",
         "RGN19CD": "E12000001",
         "RGN19NM": "North East",
         "index": 177,
         "ï»¿FID": 178
        },
        {
         "LAD19CD": "E06000005",
         "LAD19NM": "Darlington",
         "RGN19CD": "E12000001",
         "RGN19NM": "North East",
         "index": 178,
         "ï»¿FID": 179
        }
       ],
       "schema": {
        "fields": [
         {
          "name": "index",
          "type": "integer"
         },
         {
          "name": "ï»¿FID",
          "type": "integer"
         },
         {
          "name": "LAD19CD",
          "type": "string"
         },
         {
          "name": "LAD19NM",
          "type": "string"
         },
         {
          "name": "RGN19CD",
          "type": "string"
         },
         {
          "name": "RGN19NM",
          "type": "string"
         }
        ],
        "pandas_version": "0.20.0",
        "primaryKey": [
         "index"
        ]
       }
      },
      "text/html": [
       "<div>\n",
       "<style scoped>\n",
       "    .dataframe tbody tr th:only-of-type {\n",
       "        vertical-align: middle;\n",
       "    }\n",
       "\n",
       "    .dataframe tbody tr th {\n",
       "        vertical-align: top;\n",
       "    }\n",
       "\n",
       "    .dataframe thead th {\n",
       "        text-align: right;\n",
       "    }\n",
       "</style>\n",
       "<table border=\"1\" class=\"dataframe\">\n",
       "  <thead>\n",
       "    <tr style=\"text-align: right;\">\n",
       "      <th></th>\n",
       "      <th>ï»¿FID</th>\n",
       "      <th>LAD19CD</th>\n",
       "      <th>LAD19NM</th>\n",
       "      <th>RGN19CD</th>\n",
       "      <th>RGN19NM</th>\n",
       "    </tr>\n",
       "  </thead>\n",
       "  <tbody>\n",
       "    <tr>\n",
       "      <th>174</th>\n",
       "      <td>175</td>\n",
       "      <td>E06000001</td>\n",
       "      <td>Hartlepool</td>\n",
       "      <td>E12000001</td>\n",
       "      <td>North East</td>\n",
       "    </tr>\n",
       "    <tr>\n",
       "      <th>175</th>\n",
       "      <td>176</td>\n",
       "      <td>E06000002</td>\n",
       "      <td>Middlesbrough</td>\n",
       "      <td>E12000001</td>\n",
       "      <td>North East</td>\n",
       "    </tr>\n",
       "    <tr>\n",
       "      <th>176</th>\n",
       "      <td>177</td>\n",
       "      <td>E06000003</td>\n",
       "      <td>Redcar and Cleveland</td>\n",
       "      <td>E12000001</td>\n",
       "      <td>North East</td>\n",
       "    </tr>\n",
       "    <tr>\n",
       "      <th>177</th>\n",
       "      <td>178</td>\n",
       "      <td>E06000004</td>\n",
       "      <td>Stockton-on-Tees</td>\n",
       "      <td>E12000001</td>\n",
       "      <td>North East</td>\n",
       "    </tr>\n",
       "    <tr>\n",
       "      <th>178</th>\n",
       "      <td>179</td>\n",
       "      <td>E06000005</td>\n",
       "      <td>Darlington</td>\n",
       "      <td>E12000001</td>\n",
       "      <td>North East</td>\n",
       "    </tr>\n",
       "  </tbody>\n",
       "</table>\n",
       "</div>"
      ],
      "text/plain": [
       "     ï»¿FID    LAD19CD               LAD19NM    RGN19CD     RGN19NM\n",
       "174     175  E06000001            Hartlepool  E12000001  North East\n",
       "175     176  E06000002         Middlesbrough  E12000001  North East\n",
       "176     177  E06000003  Redcar and Cleveland  E12000001  North East\n",
       "177     178  E06000004      Stockton-on-Tees  E12000001  North East\n",
       "178     179  E06000005            Darlington  E12000001  North East"
      ]
     },
     "execution_count": 12,
     "metadata": {},
     "output_type": "execute_result"
    }
   ],
   "source": [
    "county_to_region.head()\n",
    "#county_to_region.shape"
   ]
  },
  {
   "cell_type": "code",
   "execution_count": 32,
   "metadata": {},
   "outputs": [
    {
     "data": {
      "application/vnd.dataresource+json": {
       "data": [
        {
         "CCG19CD": "E38000075",
         "CCG19CDH": "00K",
         "CCG19NM": "NHS Hartlepool and Stockton-on-Tees CCG",
         "FID": 1,
         "LAD19CD": "E06000001",
         "LAD19NM": "Hartlepool",
         "LSOA11NM": "Hartlepool 009A",
         "LSOA_Code": "E01011949",
         "RGN19CD": "E12000001",
         "RGN19NM": "North East",
         "index": 0
        },
        {
         "CCG19CD": "E38000075",
         "CCG19CDH": "00K",
         "CCG19NM": "NHS Hartlepool and Stockton-on-Tees CCG",
         "FID": 32,
         "LAD19CD": "E06000001",
         "LAD19NM": "Hartlepool",
         "LSOA11NM": "Hartlepool 006C",
         "LSOA_Code": "E01011983",
         "RGN19CD": "E12000001",
         "RGN19NM": "North East",
         "index": 1
        },
        {
         "CCG19CD": "E38000075",
         "CCG19CDH": "00K",
         "CCG19NM": "NHS Hartlepool and Stockton-on-Tees CCG",
         "FID": 33,
         "LAD19CD": "E06000001",
         "LAD19NM": "Hartlepool",
         "LSOA11NM": "Hartlepool 009D",
         "LSOA_Code": "E01011984",
         "RGN19CD": "E12000001",
         "RGN19NM": "North East",
         "index": 2
        },
        {
         "CCG19CD": "E38000075",
         "CCG19CDH": "00K",
         "CCG19NM": "NHS Hartlepool and Stockton-on-Tees CCG",
         "FID": 34,
         "LAD19CD": "E06000001",
         "LAD19NM": "Hartlepool",
         "LSOA11NM": "Hartlepool 010A",
         "LSOA_Code": "E01011985",
         "RGN19CD": "E12000001",
         "RGN19NM": "North East",
         "index": 3
        },
        {
         "CCG19CD": "E38000075",
         "CCG19CDH": "00K",
         "CCG19NM": "NHS Hartlepool and Stockton-on-Tees CCG",
         "FID": 35,
         "LAD19CD": "E06000001",
         "LAD19NM": "Hartlepool",
         "LSOA11NM": "Hartlepool 008B",
         "LSOA_Code": "E01011986",
         "RGN19CD": "E12000001",
         "RGN19NM": "North East",
         "index": 4
        }
       ],
       "schema": {
        "fields": [
         {
          "name": "index",
          "type": "integer"
         },
         {
          "name": "FID",
          "type": "integer"
         },
         {
          "name": "LSOA_Code",
          "type": "string"
         },
         {
          "name": "LSOA11NM",
          "type": "string"
         },
         {
          "name": "CCG19CD",
          "type": "string"
         },
         {
          "name": "CCG19CDH",
          "type": "string"
         },
         {
          "name": "CCG19NM",
          "type": "string"
         },
         {
          "name": "LAD19CD",
          "type": "string"
         },
         {
          "name": "LAD19NM",
          "type": "string"
         },
         {
          "name": "RGN19CD",
          "type": "string"
         },
         {
          "name": "RGN19NM",
          "type": "string"
         }
        ],
        "pandas_version": "0.20.0",
        "primaryKey": [
         "index"
        ]
       }
      },
      "text/html": [
       "<div>\n",
       "<style scoped>\n",
       "    .dataframe tbody tr th:only-of-type {\n",
       "        vertical-align: middle;\n",
       "    }\n",
       "\n",
       "    .dataframe tbody tr th {\n",
       "        vertical-align: top;\n",
       "    }\n",
       "\n",
       "    .dataframe thead th {\n",
       "        text-align: right;\n",
       "    }\n",
       "</style>\n",
       "<table border=\"1\" class=\"dataframe\">\n",
       "  <thead>\n",
       "    <tr style=\"text-align: right;\">\n",
       "      <th></th>\n",
       "      <th>FID</th>\n",
       "      <th>LSOA_Code</th>\n",
       "      <th>LSOA11NM</th>\n",
       "      <th>CCG19CD</th>\n",
       "      <th>CCG19CDH</th>\n",
       "      <th>CCG19NM</th>\n",
       "      <th>LAD19CD</th>\n",
       "      <th>LAD19NM</th>\n",
       "      <th>RGN19CD</th>\n",
       "      <th>RGN19NM</th>\n",
       "    </tr>\n",
       "  </thead>\n",
       "  <tbody>\n",
       "    <tr>\n",
       "      <th>0</th>\n",
       "      <td>1</td>\n",
       "      <td>E01011949</td>\n",
       "      <td>Hartlepool 009A</td>\n",
       "      <td>E38000075</td>\n",
       "      <td>00K</td>\n",
       "      <td>NHS Hartlepool and Stockton-on-Tees CCG</td>\n",
       "      <td>E06000001</td>\n",
       "      <td>Hartlepool</td>\n",
       "      <td>E12000001</td>\n",
       "      <td>North East</td>\n",
       "    </tr>\n",
       "    <tr>\n",
       "      <th>1</th>\n",
       "      <td>32</td>\n",
       "      <td>E01011983</td>\n",
       "      <td>Hartlepool 006C</td>\n",
       "      <td>E38000075</td>\n",
       "      <td>00K</td>\n",
       "      <td>NHS Hartlepool and Stockton-on-Tees CCG</td>\n",
       "      <td>E06000001</td>\n",
       "      <td>Hartlepool</td>\n",
       "      <td>E12000001</td>\n",
       "      <td>North East</td>\n",
       "    </tr>\n",
       "    <tr>\n",
       "      <th>2</th>\n",
       "      <td>33</td>\n",
       "      <td>E01011984</td>\n",
       "      <td>Hartlepool 009D</td>\n",
       "      <td>E38000075</td>\n",
       "      <td>00K</td>\n",
       "      <td>NHS Hartlepool and Stockton-on-Tees CCG</td>\n",
       "      <td>E06000001</td>\n",
       "      <td>Hartlepool</td>\n",
       "      <td>E12000001</td>\n",
       "      <td>North East</td>\n",
       "    </tr>\n",
       "    <tr>\n",
       "      <th>3</th>\n",
       "      <td>34</td>\n",
       "      <td>E01011985</td>\n",
       "      <td>Hartlepool 010A</td>\n",
       "      <td>E38000075</td>\n",
       "      <td>00K</td>\n",
       "      <td>NHS Hartlepool and Stockton-on-Tees CCG</td>\n",
       "      <td>E06000001</td>\n",
       "      <td>Hartlepool</td>\n",
       "      <td>E12000001</td>\n",
       "      <td>North East</td>\n",
       "    </tr>\n",
       "    <tr>\n",
       "      <th>4</th>\n",
       "      <td>35</td>\n",
       "      <td>E01011986</td>\n",
       "      <td>Hartlepool 008B</td>\n",
       "      <td>E38000075</td>\n",
       "      <td>00K</td>\n",
       "      <td>NHS Hartlepool and Stockton-on-Tees CCG</td>\n",
       "      <td>E06000001</td>\n",
       "      <td>Hartlepool</td>\n",
       "      <td>E12000001</td>\n",
       "      <td>North East</td>\n",
       "    </tr>\n",
       "  </tbody>\n",
       "</table>\n",
       "</div>"
      ],
      "text/plain": [
       "   FID  LSOA_Code         LSOA11NM    CCG19CD CCG19CDH  \\\n",
       "0    1  E01011949  Hartlepool 009A  E38000075      00K   \n",
       "1   32  E01011983  Hartlepool 006C  E38000075      00K   \n",
       "2   33  E01011984  Hartlepool 009D  E38000075      00K   \n",
       "3   34  E01011985  Hartlepool 010A  E38000075      00K   \n",
       "4   35  E01011986  Hartlepool 008B  E38000075      00K   \n",
       "\n",
       "                                   CCG19NM    LAD19CD     LAD19NM    RGN19CD  \\\n",
       "0  NHS Hartlepool and Stockton-on-Tees CCG  E06000001  Hartlepool  E12000001   \n",
       "1  NHS Hartlepool and Stockton-on-Tees CCG  E06000001  Hartlepool  E12000001   \n",
       "2  NHS Hartlepool and Stockton-on-Tees CCG  E06000001  Hartlepool  E12000001   \n",
       "3  NHS Hartlepool and Stockton-on-Tees CCG  E06000001  Hartlepool  E12000001   \n",
       "4  NHS Hartlepool and Stockton-on-Tees CCG  E06000001  Hartlepool  E12000001   \n",
       "\n",
       "      RGN19NM  \n",
       "0  North East  \n",
       "1  North East  \n",
       "2  North East  \n",
       "3  North East  \n",
       "4  North East  "
      ]
     },
     "execution_count": 32,
     "metadata": {},
     "output_type": "execute_result"
    }
   ],
   "source": [
    "### Create a Dataframe containing LSOA, County and Region ID's\n",
    "master_location_table = pd.merge(lsoa_to_county, county_to_region[['LAD19CD','RGN19CD','RGN19NM']],on='LAD19CD')\n",
    "master_location_table.head()"
   ]
  },
  {
   "cell_type": "code",
   "execution_count": 36,
   "metadata": {},
   "outputs": [
    {
     "data": {
      "text/plain": [
       "array(['Hartlepool', 'Middlesbrough', 'Redcar and Cleveland',\n",
       "       'Stockton-on-Tees', 'Darlington', 'Halton', 'Warrington',\n",
       "       'Blackburn with Darwen', 'Blackpool',\n",
       "       'Kingston upon Hull, City of', 'East Riding of Yorkshire',\n",
       "       'North East Lincolnshire', 'North Lincolnshire', 'York', 'Derby',\n",
       "       'Leicester', 'Rutland', 'Nottingham', 'Herefordshire, County of',\n",
       "       'Telford and Wrekin', 'Stoke-on-Trent',\n",
       "       'Bath and North East Somerset', 'Bristol, City of',\n",
       "       'North Somerset', 'South Gloucestershire', 'Plymouth', 'Torbay',\n",
       "       'Swindon', 'Peterborough', 'Luton', 'Southend-on-Sea', 'Thurrock',\n",
       "       'Medway', 'Bracknell Forest', 'West Berkshire', 'Reading',\n",
       "       'Slough', 'Windsor and Maidenhead', 'Wokingham', 'Milton Keynes',\n",
       "       'Brighton and Hove', 'Portsmouth', 'Southampton', 'Isle of Wight',\n",
       "       'County Durham', 'Cheshire East', 'Cheshire West and Chester',\n",
       "       'Shropshire', 'Cornwall', 'Isles of Scilly', 'Wiltshire',\n",
       "       'Bedford', 'Central Bedfordshire', 'Northumberland',\n",
       "       'Bournemouth, Christchurch and Poole', 'Dorset', 'Aylesbury Vale',\n",
       "       'Chiltern', 'South Bucks', 'Wycombe', 'Cambridge',\n",
       "       'East Cambridgeshire', 'Fenland', 'Huntingdonshire',\n",
       "       'South Cambridgeshire', 'Allerdale', 'Barrow-in-Furness',\n",
       "       'Carlisle', 'Copeland', 'Eden', 'South Lakeland', 'Amber Valley',\n",
       "       'Bolsover', 'Chesterfield', 'Derbyshire Dales', 'Erewash',\n",
       "       'High Peak', 'North East Derbyshire', 'South Derbyshire',\n",
       "       'East Devon', 'Exeter', 'Mid Devon', 'North Devon', 'South Hams',\n",
       "       'Teignbridge', 'Torridge', 'West Devon', 'Eastbourne', 'Hastings',\n",
       "       'Lewes', 'Rother', 'Wealden', 'Basildon', 'Braintree', 'Brentwood',\n",
       "       'Castle Point', 'Chelmsford', 'Colchester', 'Epping Forest',\n",
       "       'Harlow', 'Maldon', 'Rochford', 'Tendring', 'Uttlesford',\n",
       "       'Cheltenham', 'Cotswold', 'Forest of Dean', 'Gloucester', 'Stroud',\n",
       "       'Tewkesbury', 'Basingstoke and Deane', 'East Hampshire',\n",
       "       'Eastleigh', 'Fareham', 'Gosport', 'Hart', 'Havant', 'New Forest',\n",
       "       'Rushmoor', 'Test Valley', 'Winchester', 'Broxbourne', 'Dacorum',\n",
       "       'Hertsmere', 'North Hertfordshire', 'Three Rivers', 'Watford',\n",
       "       'Ashford', 'Canterbury', 'Dartford', 'Dover', 'Gravesham',\n",
       "       'Maidstone', 'Sevenoaks', 'Folkestone and Hythe', 'Swale',\n",
       "       'Thanet', 'Tonbridge and Malling', 'Tunbridge Wells', 'Burnley',\n",
       "       'Chorley', 'Fylde', 'Hyndburn', 'Lancaster', 'Pendle', 'Preston',\n",
       "       'Ribble Valley', 'Rossendale', 'South Ribble', 'West Lancashire',\n",
       "       'Wyre', 'Blaby', 'Charnwood', 'Harborough',\n",
       "       'Hinckley and Bosworth', 'Melton', 'North West Leicestershire',\n",
       "       'Oadby and Wigston', 'Boston', 'East Lindsey', 'Lincoln',\n",
       "       'North Kesteven', 'South Holland', 'South Kesteven',\n",
       "       'West Lindsey', 'Breckland', 'Broadland', 'Great Yarmouth',\n",
       "       \"King's Lynn and West Norfolk\", 'North Norfolk', 'Norwich',\n",
       "       'South Norfolk', 'Corby', 'Daventry', 'East Northamptonshire',\n",
       "       'Kettering', 'Northampton', 'South Northamptonshire',\n",
       "       'Wellingborough', 'Craven', 'Hambleton', 'Harrogate',\n",
       "       'Richmondshire', 'Ryedale', 'Scarborough', 'Selby', 'Ashfield',\n",
       "       'Bassetlaw', 'Broxtowe', 'Gedling', 'Mansfield',\n",
       "       'Newark and Sherwood', 'Rushcliffe', 'Cherwell', 'Oxford',\n",
       "       'South Oxfordshire', 'Vale of White Horse', 'West Oxfordshire',\n",
       "       'Mendip', 'Sedgemoor', 'South Somerset', 'Cannock Chase',\n",
       "       'East Staffordshire', 'Lichfield', 'Newcastle-under-Lyme',\n",
       "       'South Staffordshire', 'Stafford', 'Staffordshire Moorlands',\n",
       "       'Tamworth', 'Babergh', 'Ipswich', 'Mid Suffolk', 'Elmbridge',\n",
       "       'Epsom and Ewell', 'Guildford', 'Mole Valley',\n",
       "       'Reigate and Banstead', 'Runnymede', 'Spelthorne', 'Surrey Heath',\n",
       "       'Tandridge', 'Waverley', 'Woking', 'North Warwickshire',\n",
       "       'Nuneaton and Bedworth', 'Rugby', 'Stratford-on-Avon', 'Warwick',\n",
       "       'Adur', 'Arun', 'Chichester', 'Crawley', 'Horsham', 'Mid Sussex',\n",
       "       'Worthing', 'Bromsgrove', 'Malvern Hills', 'Redditch', 'Worcester',\n",
       "       'Wychavon', 'Wyre Forest', 'St Albans', 'Welwyn Hatfield',\n",
       "       'East Hertfordshire', 'Stevenage', 'East Suffolk', 'West Suffolk',\n",
       "       'Somerset West and Taunton', 'Bolton', 'Bury', 'Manchester',\n",
       "       'Oldham', 'Rochdale', 'Salford', 'Stockport', 'Tameside',\n",
       "       'Trafford', 'Wigan', 'Knowsley', 'Liverpool', 'St. Helens',\n",
       "       'Sefton', 'Wirral', 'Barnsley', 'Doncaster', 'Rotherham',\n",
       "       'Sheffield', 'Newcastle upon Tyne', 'North Tyneside',\n",
       "       'South Tyneside', 'Sunderland', 'Birmingham', 'Coventry', 'Dudley',\n",
       "       'Sandwell', 'Solihull', 'Walsall', 'Wolverhampton', 'Bradford',\n",
       "       'Calderdale', 'Kirklees', 'Leeds', 'Wakefield', 'Gateshead',\n",
       "       'City of London', 'Barking and Dagenham', 'Barnet', 'Bexley',\n",
       "       'Brent', 'Bromley', 'Camden', 'Croydon', 'Ealing', 'Enfield',\n",
       "       'Greenwich', 'Hackney', 'Hammersmith and Fulham', 'Haringey',\n",
       "       'Harrow', 'Havering', 'Hillingdon', 'Hounslow', 'Islington',\n",
       "       'Kensington and Chelsea', 'Kingston upon Thames', 'Lambeth',\n",
       "       'Lewisham', 'Merton', 'Newham', 'Redbridge',\n",
       "       'Richmond upon Thames', 'Southwark', 'Sutton', 'Tower Hamlets',\n",
       "       'Waltham Forest', 'Wandsworth', 'Westminster'], dtype=object)"
      ]
     },
     "execution_count": 36,
     "metadata": {},
     "output_type": "execute_result"
    }
   ],
   "source": [
    "master_location_table.LAD19NM.unique()"
   ]
  },
  {
   "cell_type": "code",
   "execution_count": 50,
   "metadata": {},
   "outputs": [
    {
     "data": {
      "application/vnd.dataresource+json": {
       "data": [
        {
         "LAD19NM": "Barnsley",
         "LSOA_Code": 147,
         "RGN19NM": "Yorkshire and The Humber"
        },
        {
         "LAD19NM": "Bradford",
         "LSOA_Code": 310,
         "RGN19NM": "Yorkshire and The Humber"
        },
        {
         "LAD19NM": "Calderdale",
         "LSOA_Code": 128,
         "RGN19NM": "Yorkshire and The Humber"
        },
        {
         "LAD19NM": "Craven",
         "LSOA_Code": 32,
         "RGN19NM": "Yorkshire and The Humber"
        },
        {
         "LAD19NM": "Doncaster",
         "LSOA_Code": 194,
         "RGN19NM": "Yorkshire and The Humber"
        },
        {
         "LAD19NM": "East Riding of Yorkshire",
         "LSOA_Code": 210,
         "RGN19NM": "Yorkshire and The Humber"
        },
        {
         "LAD19NM": "Hambleton",
         "LSOA_Code": 52,
         "RGN19NM": "Yorkshire and The Humber"
        },
        {
         "LAD19NM": "Harrogate",
         "LSOA_Code": 104,
         "RGN19NM": "Yorkshire and The Humber"
        },
        {
         "LAD19NM": "Kingston upon Hull, City of",
         "LSOA_Code": 166,
         "RGN19NM": "Yorkshire and The Humber"
        },
        {
         "LAD19NM": "Kirklees",
         "LSOA_Code": 259,
         "RGN19NM": "Yorkshire and The Humber"
        },
        {
         "LAD19NM": "Leeds",
         "LSOA_Code": 482,
         "RGN19NM": "Yorkshire and The Humber"
        },
        {
         "LAD19NM": "North East Lincolnshire",
         "LSOA_Code": 106,
         "RGN19NM": "Yorkshire and The Humber"
        },
        {
         "LAD19NM": "North Lincolnshire",
         "LSOA_Code": 101,
         "RGN19NM": "Yorkshire and The Humber"
        },
        {
         "LAD19NM": "Richmondshire",
         "LSOA_Code": 34,
         "RGN19NM": "Yorkshire and The Humber"
        },
        {
         "LAD19NM": "Rotherham",
         "LSOA_Code": 167,
         "RGN19NM": "Yorkshire and The Humber"
        },
        {
         "LAD19NM": "Ryedale",
         "LSOA_Code": 30,
         "RGN19NM": "Yorkshire and The Humber"
        },
        {
         "LAD19NM": "Scarborough",
         "LSOA_Code": 71,
         "RGN19NM": "Yorkshire and The Humber"
        },
        {
         "LAD19NM": "Selby",
         "LSOA_Code": 50,
         "RGN19NM": "Yorkshire and The Humber"
        },
        {
         "LAD19NM": "Sheffield",
         "LSOA_Code": 345,
         "RGN19NM": "Yorkshire and The Humber"
        },
        {
         "LAD19NM": "Wakefield",
         "LSOA_Code": 209,
         "RGN19NM": "Yorkshire and The Humber"
        },
        {
         "LAD19NM": "York",
         "LSOA_Code": 120,
         "RGN19NM": "Yorkshire and The Humber"
        }
       ],
       "schema": {
        "fields": [
         {
          "name": "RGN19NM",
          "type": "string"
         },
         {
          "name": "LAD19NM",
          "type": "string"
         },
         {
          "name": "LSOA_Code",
          "type": "integer"
         }
        ],
        "pandas_version": "0.20.0",
        "primaryKey": [
         "RGN19NM",
         "LAD19NM"
        ]
       }
      },
      "text/html": [
       "<div>\n",
       "<style scoped>\n",
       "    .dataframe tbody tr th:only-of-type {\n",
       "        vertical-align: middle;\n",
       "    }\n",
       "\n",
       "    .dataframe tbody tr th {\n",
       "        vertical-align: top;\n",
       "    }\n",
       "\n",
       "    .dataframe thead th {\n",
       "        text-align: right;\n",
       "    }\n",
       "</style>\n",
       "<table border=\"1\" class=\"dataframe\">\n",
       "  <thead>\n",
       "    <tr style=\"text-align: right;\">\n",
       "      <th></th>\n",
       "      <th></th>\n",
       "      <th>LSOA_Code</th>\n",
       "    </tr>\n",
       "    <tr>\n",
       "      <th>RGN19NM</th>\n",
       "      <th>LAD19NM</th>\n",
       "      <th></th>\n",
       "    </tr>\n",
       "  </thead>\n",
       "  <tbody>\n",
       "    <tr>\n",
       "      <th rowspan=\"21\" valign=\"top\">Yorkshire and The Humber</th>\n",
       "      <th>Barnsley</th>\n",
       "      <td>147</td>\n",
       "    </tr>\n",
       "    <tr>\n",
       "      <th>Bradford</th>\n",
       "      <td>310</td>\n",
       "    </tr>\n",
       "    <tr>\n",
       "      <th>Calderdale</th>\n",
       "      <td>128</td>\n",
       "    </tr>\n",
       "    <tr>\n",
       "      <th>Craven</th>\n",
       "      <td>32</td>\n",
       "    </tr>\n",
       "    <tr>\n",
       "      <th>Doncaster</th>\n",
       "      <td>194</td>\n",
       "    </tr>\n",
       "    <tr>\n",
       "      <th>East Riding of Yorkshire</th>\n",
       "      <td>210</td>\n",
       "    </tr>\n",
       "    <tr>\n",
       "      <th>Hambleton</th>\n",
       "      <td>52</td>\n",
       "    </tr>\n",
       "    <tr>\n",
       "      <th>Harrogate</th>\n",
       "      <td>104</td>\n",
       "    </tr>\n",
       "    <tr>\n",
       "      <th>Kingston upon Hull, City of</th>\n",
       "      <td>166</td>\n",
       "    </tr>\n",
       "    <tr>\n",
       "      <th>Kirklees</th>\n",
       "      <td>259</td>\n",
       "    </tr>\n",
       "    <tr>\n",
       "      <th>Leeds</th>\n",
       "      <td>482</td>\n",
       "    </tr>\n",
       "    <tr>\n",
       "      <th>North East Lincolnshire</th>\n",
       "      <td>106</td>\n",
       "    </tr>\n",
       "    <tr>\n",
       "      <th>North Lincolnshire</th>\n",
       "      <td>101</td>\n",
       "    </tr>\n",
       "    <tr>\n",
       "      <th>Richmondshire</th>\n",
       "      <td>34</td>\n",
       "    </tr>\n",
       "    <tr>\n",
       "      <th>Rotherham</th>\n",
       "      <td>167</td>\n",
       "    </tr>\n",
       "    <tr>\n",
       "      <th>Ryedale</th>\n",
       "      <td>30</td>\n",
       "    </tr>\n",
       "    <tr>\n",
       "      <th>Scarborough</th>\n",
       "      <td>71</td>\n",
       "    </tr>\n",
       "    <tr>\n",
       "      <th>Selby</th>\n",
       "      <td>50</td>\n",
       "    </tr>\n",
       "    <tr>\n",
       "      <th>Sheffield</th>\n",
       "      <td>345</td>\n",
       "    </tr>\n",
       "    <tr>\n",
       "      <th>Wakefield</th>\n",
       "      <td>209</td>\n",
       "    </tr>\n",
       "    <tr>\n",
       "      <th>York</th>\n",
       "      <td>120</td>\n",
       "    </tr>\n",
       "  </tbody>\n",
       "</table>\n",
       "</div>"
      ],
      "text/plain": [
       "                                                      LSOA_Code\n",
       "RGN19NM                  LAD19NM                               \n",
       "Yorkshire and The Humber Barnsley                           147\n",
       "                         Bradford                           310\n",
       "                         Calderdale                         128\n",
       "                         Craven                              32\n",
       "                         Doncaster                          194\n",
       "                         East Riding of Yorkshire           210\n",
       "                         Hambleton                           52\n",
       "                         Harrogate                          104\n",
       "                         Kingston upon Hull, City of        166\n",
       "                         Kirklees                           259\n",
       "                         Leeds                              482\n",
       "                         North East Lincolnshire            106\n",
       "                         North Lincolnshire                 101\n",
       "                         Richmondshire                       34\n",
       "                         Rotherham                          167\n",
       "                         Ryedale                             30\n",
       "                         Scarborough                         71\n",
       "                         Selby                               50\n",
       "                         Sheffield                          345\n",
       "                         Wakefield                          209\n",
       "                         York                               120"
      ]
     },
     "execution_count": 50,
     "metadata": {},
     "output_type": "execute_result"
    }
   ],
   "source": [
    "#Filtering to only one region. Counting the number of LSOA's per county, aggreating first by Region, then by county. Only showing the count of LSOA entries.\n",
    "agg1 = master_location_table[master_location_table.RGN19NM == 'Yorkshire and The Humber'].groupby(['RGN19NM','LAD19NM']).count()[['LSOA_Code']]\n",
    "agg1\n",
    "#agg2 = agg1.groupby('RGN19NM').count()\n",
    "#agg2"
   ]
  },
  {
   "cell_type": "code",
   "execution_count": 20,
   "metadata": {},
   "outputs": [
    {
     "data": {
      "text/plain": [
       "array(['London', 'South West', 'East of England', 'South East',\n",
       "       'East Midlands', 'West Midlands', 'North West',\n",
       "       'Yorkshire and The Humber', 'North East'], dtype=object)"
      ]
     },
     "execution_count": 20,
     "metadata": {},
     "output_type": "execute_result"
    }
   ],
   "source": [
    "LAD.RGN19NM.unique()"
   ]
  },
  {
   "cell_type": "code",
   "execution_count": 13,
   "metadata": {},
   "outputs": [],
   "source": [
    "##Region Shape Files\n",
    "region_shape_path = \"/Users/josemawyin/Library/Mobile Documents/com~apple~CloudDocs/Downloads/Regions__December_2017__Boundaries-shp/Regions__December_2017__Boundaries.shp\"\n",
    "region_shape = gpd.read_file(region_shape_path)"
   ]
  },
  {
   "cell_type": "code",
   "execution_count": 14,
   "metadata": {},
   "outputs": [
    {
     "ename": "TypeError",
     "evalue": "__init__() got an unexpected keyword argument 'orient'",
     "output_type": "error",
     "traceback": [
      "\u001b[0;31m---------------------------------------------------------------------------\u001b[0m",
      "\u001b[0;31mTypeError\u001b[0m                                 Traceback (most recent call last)",
      "\u001b[0;32m~/anaconda3/lib/python3.7/site-packages/IPython/core/formatters.py\u001b[0m in \u001b[0;36m__call__\u001b[0;34m(self, obj)\u001b[0m\n\u001b[1;32m    343\u001b[0m             \u001b[0mmethod\u001b[0m \u001b[0;34m=\u001b[0m \u001b[0mget_real_method\u001b[0m\u001b[0;34m(\u001b[0m\u001b[0mobj\u001b[0m\u001b[0;34m,\u001b[0m \u001b[0mself\u001b[0m\u001b[0;34m.\u001b[0m\u001b[0mprint_method\u001b[0m\u001b[0;34m)\u001b[0m\u001b[0;34m\u001b[0m\u001b[0;34m\u001b[0m\u001b[0m\n\u001b[1;32m    344\u001b[0m             \u001b[0;32mif\u001b[0m \u001b[0mmethod\u001b[0m \u001b[0;32mis\u001b[0m \u001b[0;32mnot\u001b[0m \u001b[0;32mNone\u001b[0m\u001b[0;34m:\u001b[0m\u001b[0;34m\u001b[0m\u001b[0;34m\u001b[0m\u001b[0m\n\u001b[0;32m--> 345\u001b[0;31m                 \u001b[0;32mreturn\u001b[0m \u001b[0mmethod\u001b[0m\u001b[0;34m(\u001b[0m\u001b[0;34m)\u001b[0m\u001b[0;34m\u001b[0m\u001b[0;34m\u001b[0m\u001b[0m\n\u001b[0m\u001b[1;32m    346\u001b[0m             \u001b[0;32mreturn\u001b[0m \u001b[0;32mNone\u001b[0m\u001b[0;34m\u001b[0m\u001b[0;34m\u001b[0m\u001b[0m\n\u001b[1;32m    347\u001b[0m         \u001b[0;32melse\u001b[0m\u001b[0;34m:\u001b[0m\u001b[0;34m\u001b[0m\u001b[0;34m\u001b[0m\u001b[0m\n",
      "\u001b[0;32m~/anaconda3/lib/python3.7/site-packages/pandas/core/generic.py\u001b[0m in \u001b[0;36m_repr_data_resource_\u001b[0;34m(self)\u001b[0m\n\u001b[1;32m   1997\u001b[0m             \u001b[0mdata\u001b[0m \u001b[0;34m=\u001b[0m \u001b[0mself\u001b[0m\u001b[0;34m.\u001b[0m\u001b[0mhead\u001b[0m\u001b[0;34m(\u001b[0m\u001b[0mconfig\u001b[0m\u001b[0;34m.\u001b[0m\u001b[0mget_option\u001b[0m\u001b[0;34m(\u001b[0m\u001b[0;34m\"display.max_rows\"\u001b[0m\u001b[0;34m)\u001b[0m\u001b[0;34m)\u001b[0m\u001b[0;34m\u001b[0m\u001b[0;34m\u001b[0m\u001b[0m\n\u001b[1;32m   1998\u001b[0m             payload = json.loads(\n\u001b[0;32m-> 1999\u001b[0;31m                 \u001b[0mdata\u001b[0m\u001b[0;34m.\u001b[0m\u001b[0mto_json\u001b[0m\u001b[0;34m(\u001b[0m\u001b[0morient\u001b[0m\u001b[0;34m=\u001b[0m\u001b[0;34m\"table\"\u001b[0m\u001b[0;34m)\u001b[0m\u001b[0;34m,\u001b[0m \u001b[0mobject_pairs_hook\u001b[0m\u001b[0;34m=\u001b[0m\u001b[0mcollections\u001b[0m\u001b[0;34m.\u001b[0m\u001b[0mOrderedDict\u001b[0m\u001b[0;34m\u001b[0m\u001b[0;34m\u001b[0m\u001b[0m\n\u001b[0m\u001b[1;32m   2000\u001b[0m             )\n\u001b[1;32m   2001\u001b[0m             \u001b[0;32mreturn\u001b[0m \u001b[0mpayload\u001b[0m\u001b[0;34m\u001b[0m\u001b[0;34m\u001b[0m\u001b[0m\n",
      "\u001b[0;32m~/anaconda3/lib/python3.7/site-packages/geopandas/geodataframe.py\u001b[0m in \u001b[0;36mto_json\u001b[0;34m(self, na, show_bbox, **kwargs)\u001b[0m\n\u001b[1;32m    379\u001b[0m         \u001b[0;34m-\u001b[0m\u001b[0;31m \u001b[0m\u001b[0;31m`\u001b[0m\u001b[0;31m`\u001b[0m\u001b[0mkeep\u001b[0m\u001b[0;31m`\u001b[0m\u001b[0;31m`\u001b[0m\u001b[0;34m:\u001b[0m \u001b[0moutput\u001b[0m \u001b[0mthe\u001b[0m \u001b[0mmissing\u001b[0m \u001b[0mentries\u001b[0m \u001b[0;32mas\u001b[0m \u001b[0mNaN\u001b[0m\u001b[0;34m.\u001b[0m\u001b[0;34m\u001b[0m\u001b[0;34m\u001b[0m\u001b[0m\n\u001b[1;32m    380\u001b[0m         \"\"\"\n\u001b[0;32m--> 381\u001b[0;31m         \u001b[0;32mreturn\u001b[0m \u001b[0mjson\u001b[0m\u001b[0;34m.\u001b[0m\u001b[0mdumps\u001b[0m\u001b[0;34m(\u001b[0m\u001b[0mself\u001b[0m\u001b[0;34m.\u001b[0m\u001b[0m_to_geo\u001b[0m\u001b[0;34m(\u001b[0m\u001b[0mna\u001b[0m\u001b[0;34m=\u001b[0m\u001b[0mna\u001b[0m\u001b[0;34m,\u001b[0m \u001b[0mshow_bbox\u001b[0m\u001b[0;34m=\u001b[0m\u001b[0mshow_bbox\u001b[0m\u001b[0;34m)\u001b[0m\u001b[0;34m,\u001b[0m \u001b[0;34m**\u001b[0m\u001b[0mkwargs\u001b[0m\u001b[0;34m)\u001b[0m\u001b[0;34m\u001b[0m\u001b[0;34m\u001b[0m\u001b[0m\n\u001b[0m\u001b[1;32m    382\u001b[0m \u001b[0;34m\u001b[0m\u001b[0m\n\u001b[1;32m    383\u001b[0m     \u001b[0;34m@\u001b[0m\u001b[0mproperty\u001b[0m\u001b[0;34m\u001b[0m\u001b[0;34m\u001b[0m\u001b[0m\n",
      "\u001b[0;32m~/anaconda3/lib/python3.7/json/__init__.py\u001b[0m in \u001b[0;36mdumps\u001b[0;34m(obj, skipkeys, ensure_ascii, check_circular, allow_nan, cls, indent, separators, default, sort_keys, **kw)\u001b[0m\n\u001b[1;32m    236\u001b[0m         \u001b[0mcheck_circular\u001b[0m\u001b[0;34m=\u001b[0m\u001b[0mcheck_circular\u001b[0m\u001b[0;34m,\u001b[0m \u001b[0mallow_nan\u001b[0m\u001b[0;34m=\u001b[0m\u001b[0mallow_nan\u001b[0m\u001b[0;34m,\u001b[0m \u001b[0mindent\u001b[0m\u001b[0;34m=\u001b[0m\u001b[0mindent\u001b[0m\u001b[0;34m,\u001b[0m\u001b[0;34m\u001b[0m\u001b[0;34m\u001b[0m\u001b[0m\n\u001b[1;32m    237\u001b[0m         \u001b[0mseparators\u001b[0m\u001b[0;34m=\u001b[0m\u001b[0mseparators\u001b[0m\u001b[0;34m,\u001b[0m \u001b[0mdefault\u001b[0m\u001b[0;34m=\u001b[0m\u001b[0mdefault\u001b[0m\u001b[0;34m,\u001b[0m \u001b[0msort_keys\u001b[0m\u001b[0;34m=\u001b[0m\u001b[0msort_keys\u001b[0m\u001b[0;34m,\u001b[0m\u001b[0;34m\u001b[0m\u001b[0;34m\u001b[0m\u001b[0m\n\u001b[0;32m--> 238\u001b[0;31m         **kw).encode(obj)\n\u001b[0m\u001b[1;32m    239\u001b[0m \u001b[0;34m\u001b[0m\u001b[0m\n\u001b[1;32m    240\u001b[0m \u001b[0;34m\u001b[0m\u001b[0m\n",
      "\u001b[0;31mTypeError\u001b[0m: __init__() got an unexpected keyword argument 'orient'"
     ]
    },
    {
     "data": {
      "text/html": [
       "<div>\n",
       "<style scoped>\n",
       "    .dataframe tbody tr th:only-of-type {\n",
       "        vertical-align: middle;\n",
       "    }\n",
       "\n",
       "    .dataframe tbody tr th {\n",
       "        vertical-align: top;\n",
       "    }\n",
       "\n",
       "    .dataframe thead th {\n",
       "        text-align: right;\n",
       "    }\n",
       "</style>\n",
       "<table border=\"1\" class=\"dataframe\">\n",
       "  <thead>\n",
       "    <tr style=\"text-align: right;\">\n",
       "      <th></th>\n",
       "      <th>objectid</th>\n",
       "      <th>rgn17cd</th>\n",
       "      <th>rgn17nm</th>\n",
       "      <th>bng_e</th>\n",
       "      <th>bng_n</th>\n",
       "      <th>long</th>\n",
       "      <th>lat</th>\n",
       "      <th>st_areasha</th>\n",
       "      <th>st_lengths</th>\n",
       "      <th>geometry</th>\n",
       "    </tr>\n",
       "  </thead>\n",
       "  <tbody>\n",
       "    <tr>\n",
       "      <th>0</th>\n",
       "      <td>1</td>\n",
       "      <td>E12000001</td>\n",
       "      <td>North East</td>\n",
       "      <td>417313</td>\n",
       "      <td>600358</td>\n",
       "      <td>-1.728900</td>\n",
       "      <td>55.297031</td>\n",
       "      <td>8.608115e+09</td>\n",
       "      <td>6.492916e+05</td>\n",
       "      <td>MULTIPOLYGON (((400869.793 652744.481, 400910....</td>\n",
       "    </tr>\n",
       "    <tr>\n",
       "      <th>1</th>\n",
       "      <td>2</td>\n",
       "      <td>E12000002</td>\n",
       "      <td>North West</td>\n",
       "      <td>350015</td>\n",
       "      <td>506280</td>\n",
       "      <td>-2.772370</td>\n",
       "      <td>54.449451</td>\n",
       "      <td>1.418139e+10</td>\n",
       "      <td>1.053043e+06</td>\n",
       "      <td>MULTIPOLYGON (((363823.401 578129.102, 364542....</td>\n",
       "    </tr>\n",
       "    <tr>\n",
       "      <th>2</th>\n",
       "      <td>3</td>\n",
       "      <td>E12000003</td>\n",
       "      <td>Yorkshire and The Humber</td>\n",
       "      <td>446903</td>\n",
       "      <td>448736</td>\n",
       "      <td>-1.287120</td>\n",
       "      <td>53.932640</td>\n",
       "      <td>1.543025e+10</td>\n",
       "      <td>8.646500e+05</td>\n",
       "      <td>POLYGON ((479999.978 517670.160, 481340.496 51...</td>\n",
       "    </tr>\n",
       "    <tr>\n",
       "      <th>3</th>\n",
       "      <td>4</td>\n",
       "      <td>E12000004</td>\n",
       "      <td>East Midlands</td>\n",
       "      <td>477660</td>\n",
       "      <td>322635</td>\n",
       "      <td>-0.849670</td>\n",
       "      <td>52.795719</td>\n",
       "      <td>1.565396e+10</td>\n",
       "      <td>8.926245e+05</td>\n",
       "      <td>POLYGON ((516022.702 412210.895, 515854.099 41...</td>\n",
       "    </tr>\n",
       "    <tr>\n",
       "      <th>4</th>\n",
       "      <td>5</td>\n",
       "      <td>E12000005</td>\n",
       "      <td>West Midlands</td>\n",
       "      <td>386294</td>\n",
       "      <td>295477</td>\n",
       "      <td>-2.203580</td>\n",
       "      <td>52.556969</td>\n",
       "      <td>1.300924e+10</td>\n",
       "      <td>7.736454e+05</td>\n",
       "      <td>POLYGON ((407784.302 366613.697, 412395.600 36...</td>\n",
       "    </tr>\n",
       "    <tr>\n",
       "      <th>5</th>\n",
       "      <td>6</td>\n",
       "      <td>E12000006</td>\n",
       "      <td>East of England</td>\n",
       "      <td>571074</td>\n",
       "      <td>263229</td>\n",
       "      <td>0.504146</td>\n",
       "      <td>52.240669</td>\n",
       "      <td>1.915693e+10</td>\n",
       "      <td>1.084885e+06</td>\n",
       "      <td>MULTIPOLYGON (((599845.992 346575.743, 602319....</td>\n",
       "    </tr>\n",
       "    <tr>\n",
       "      <th>6</th>\n",
       "      <td>7</td>\n",
       "      <td>E12000007</td>\n",
       "      <td>London</td>\n",
       "      <td>517516</td>\n",
       "      <td>178392</td>\n",
       "      <td>-0.308640</td>\n",
       "      <td>51.492271</td>\n",
       "      <td>1.581483e+09</td>\n",
       "      <td>2.719279e+05</td>\n",
       "      <td>POLYGON ((537745.998 197762.300, 537646.397 19...</td>\n",
       "    </tr>\n",
       "    <tr>\n",
       "      <th>7</th>\n",
       "      <td>8</td>\n",
       "      <td>E12000008</td>\n",
       "      <td>South East</td>\n",
       "      <td>470062</td>\n",
       "      <td>172924</td>\n",
       "      <td>-0.993110</td>\n",
       "      <td>51.450970</td>\n",
       "      <td>1.910885e+10</td>\n",
       "      <td>1.456919e+06</td>\n",
       "      <td>MULTIPOLYGON (((493941.101 254585.705, 493776....</td>\n",
       "    </tr>\n",
       "    <tr>\n",
       "      <th>8</th>\n",
       "      <td>9</td>\n",
       "      <td>E12000009</td>\n",
       "      <td>South West</td>\n",
       "      <td>285015</td>\n",
       "      <td>102567</td>\n",
       "      <td>-3.633430</td>\n",
       "      <td>50.811192</td>\n",
       "      <td>2.398390e+10</td>\n",
       "      <td>1.632970e+06</td>\n",
       "      <td>MULTIPOLYGON (((416007.596 246053.797, 417744....</td>\n",
       "    </tr>\n",
       "  </tbody>\n",
       "</table>\n",
       "</div>"
      ],
      "text/plain": [
       "   objectid    rgn17cd                   rgn17nm   bng_e   bng_n      long  \\\n",
       "0         1  E12000001                North East  417313  600358 -1.728900   \n",
       "1         2  E12000002                North West  350015  506280 -2.772370   \n",
       "2         3  E12000003  Yorkshire and The Humber  446903  448736 -1.287120   \n",
       "3         4  E12000004             East Midlands  477660  322635 -0.849670   \n",
       "4         5  E12000005             West Midlands  386294  295477 -2.203580   \n",
       "5         6  E12000006           East of England  571074  263229  0.504146   \n",
       "6         7  E12000007                    London  517516  178392 -0.308640   \n",
       "7         8  E12000008                South East  470062  172924 -0.993110   \n",
       "8         9  E12000009                South West  285015  102567 -3.633430   \n",
       "\n",
       "         lat    st_areasha    st_lengths  \\\n",
       "0  55.297031  8.608115e+09  6.492916e+05   \n",
       "1  54.449451  1.418139e+10  1.053043e+06   \n",
       "2  53.932640  1.543025e+10  8.646500e+05   \n",
       "3  52.795719  1.565396e+10  8.926245e+05   \n",
       "4  52.556969  1.300924e+10  7.736454e+05   \n",
       "5  52.240669  1.915693e+10  1.084885e+06   \n",
       "6  51.492271  1.581483e+09  2.719279e+05   \n",
       "7  51.450970  1.910885e+10  1.456919e+06   \n",
       "8  50.811192  2.398390e+10  1.632970e+06   \n",
       "\n",
       "                                            geometry  \n",
       "0  MULTIPOLYGON (((400869.793 652744.481, 400910....  \n",
       "1  MULTIPOLYGON (((363823.401 578129.102, 364542....  \n",
       "2  POLYGON ((479999.978 517670.160, 481340.496 51...  \n",
       "3  POLYGON ((516022.702 412210.895, 515854.099 41...  \n",
       "4  POLYGON ((407784.302 366613.697, 412395.600 36...  \n",
       "5  MULTIPOLYGON (((599845.992 346575.743, 602319....  \n",
       "6  POLYGON ((537745.998 197762.300, 537646.397 19...  \n",
       "7  MULTIPOLYGON (((493941.101 254585.705, 493776....  \n",
       "8  MULTIPOLYGON (((416007.596 246053.797, 417744....  "
      ]
     },
     "execution_count": 14,
     "metadata": {},
     "output_type": "execute_result"
    }
   ],
   "source": [
    "region_shape"
   ]
  },
  {
   "cell_type": "code",
   "execution_count": 21,
   "metadata": {},
   "outputs": [
    {
     "data": {
      "text/plain": [
       "<matplotlib.axes._subplots.AxesSubplot at 0x7f8b14526358>"
      ]
     },
     "execution_count": 21,
     "metadata": {},
     "output_type": "execute_result"
    },
    {
     "data": {
      "image/png": "[encoded data removed]",
      "text/plain": [
       "<Figure size 432x288 with 1 Axes>"
      ]
     },
     "metadata": {
      "needs_background": "light"
     },
     "output_type": "display_data"
    }
   ],
   "source": [
    "region_shape.plot(column='rgn17cd')"
   ]
  },
  {
   "cell_type": "code",
   "execution_count": null,
   "metadata": {},
   "outputs": [],
   "source": []
  },
  {
   "cell_type": "code",
   "execution_count": null,
   "metadata": {},
   "outputs": [],
   "source": []
  }
 ],
 "metadata": {
  "kernelspec": {
   "display_name": "Python 3",
   "language": "python",
   "name": "python3"
  },
  "language_info": {
   "codemirror_mode": {
    "name": "ipython",
    "version": 3
   },
   "file_extension": ".py",
   "mimetype": "text/x-python",
   "name": "python",
   "nbconvert_exporter": "python",
   "pygments_lexer": "ipython3",
   "version": "3.7.1"
  }
 },
 "nbformat": 4,
 "nbformat_minor": 4
}
